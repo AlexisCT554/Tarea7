{
  "nbformat": 4,
  "nbformat_minor": 0,
  "metadata": {
    "colab": {
      "name": "Listas_ligadas_ADT_1310.ipynb",
      "provenance": []
    },
    "kernelspec": {
      "display_name": "Python 3",
      "name": "python3"
    },
    "language_info": {
      "name": "python"
    }
  },
  "cells": [
    {
      "cell_type": "markdown",
      "metadata": {
        "id": "Oc1j96TR0k_s"
      },
      "source": [
        "# Ejercicios con la clase Nodo\n",
        "\n",
        "- Crear un nodo\n",
        "  - Imprimir el valor del nodo\n",
        "- Crear dos nodos\n",
        "  - Imprimir el valor del primero\n",
        "  - Imprimir el valor del segundo\n",
        "  - Transversal\n",
        "- Lo mismo pero con 4 nodos 10,20,30,40\n",
        "   - Imprimir el valor del primero\n",
        "   - Imprimir el valor del segundo\n",
        "   - Transversal\n",
        "   - Insertar el nodo 25, despues del nodo 20 y antes del nodo 30"
      ]
    },
    {
      "cell_type": "code",
      "metadata": {
        "id": "sUefQGaQ0XCH"
      },
      "source": [
        "class Nodo:\n",
        "  def __init__(self, value, siguiente = None ):\n",
        "    self.data = value\n",
        "    self.next = siguiente\n"
      ],
      "execution_count": 17,
      "outputs": []
    },
    {
      "cell_type": "code",
      "metadata": {
        "colab": {
          "base_uri": "https://localhost:8080/"
        },
        "id": "HRp7txV21tEB",
        "outputId": "98cec5d0-2957-4c21-8a13-b80fb20c259a"
      },
      "source": [
        "head = Nodo(10)\n",
        "print(head.data)"
      ],
      "execution_count": 18,
      "outputs": [
        {
          "output_type": "stream",
          "name": "stdout",
          "text": [
            "10\n"
          ]
        }
      ]
    },
    {
      "cell_type": "code",
      "metadata": {
        "colab": {
          "base_uri": "https://localhost:8080/"
        },
        "id": "HtMGTArE2dy8",
        "outputId": "9d1f7ca5-473a-4e4b-820b-f2e56f4ae743"
      },
      "source": [
        "head = Nodo(10)\n",
        "head.next = Nodo(20)\n",
        "\n",
        "print(f\"Primero = {head.data} \")\n",
        "print(f\"Segundo = {head.next.data} \")\n",
        "\n",
        "#Lo mismo pero ahorrando codigo\n",
        "head = Nodo(10, Nodo (20,))\n",
        "print(f\"Primero = {head.data} \")\n",
        "print(f\"Segundo = {head.next.data} \")\n",
        "\n",
        "#transversal\n",
        "\n",
        "curr_node = head\n",
        "while curr_node != None:\n",
        "  print(f\"| {curr_node.data} | --> \", end=\"\")\n",
        "  curr_node = curr_node.next\n",
        "print(\"\")"
      ],
      "execution_count": 19,
      "outputs": [
        {
          "output_type": "stream",
          "name": "stdout",
          "text": [
            "Primero = 10 \n",
            "Segundo = 20 \n",
            "Primero = 10 \n",
            "Segundo = 20 \n",
            "| 10 | --> | 20 | --> \n"
          ]
        }
      ]
    },
    {
      "cell_type": "code",
      "metadata": {
        "colab": {
          "base_uri": "https://localhost:8080/"
        },
        "id": "oVKn_FiE66Yj",
        "outputId": "f02f2679-311c-4ef2-a062-e7bb6cbed080"
      },
      "source": [
        "head = Nodo(10, Nodo(20, Nodo (30, Nodo (40))))\n",
        "#transversal\n",
        "curr_node = head\n",
        "while curr_node != None:\n",
        "  print(f\"| {curr_node.data} | --> \", end=\"\")\n",
        "  curr_node = curr_node.next\n",
        "print(\"\")\n",
        "#imprimir el primero\n",
        "print(head.data)\n",
        "#imprimir el ultimo\n",
        "curr_node = head\n",
        "while curr_node.next !=None:\n",
        "  curr_node = curr_node.next\n",
        "  print(curr_node.data)\n",
        "print(\"\")\n",
        "\n",
        "#insertar nodo 25\n",
        "curr_node = head\n",
        "while curr_node.data !=20:\n",
        "  curr_node = curr_node.next\n",
        "print(curr_node.data)\n",
        "\n",
        "#crear el nodo 25\n",
        "\n",
        "curr_node.next = Nodo(25,curr_node.next)\n",
        "print(\"Despues de insertar 25:  \")\n",
        "#transversal\n",
        "curr_node = head\n",
        "while curr_node != None:\n",
        "  print(f\"| {curr_node.data} | --> \", end=\"\")\n",
        "  curr_node = curr_node.next\n",
        "print(\"\")\n"
      ],
      "execution_count": 20,
      "outputs": [
        {
          "output_type": "stream",
          "name": "stdout",
          "text": [
            "| 10 | --> | 20 | --> | 30 | --> | 40 | --> \n",
            "10\n",
            "20\n",
            "30\n",
            "40\n",
            "\n",
            "20\n",
            "Despues de insertar 25:  \n",
            "| 10 | --> | 20 | --> | 25 | --> | 30 | --> | 40 | --> \n"
          ]
        }
      ]
    },
    {
      "cell_type": "code",
      "metadata": {
        "id": "5Er9j_6ic5TQ"
      },
      "source": [
        "class Nodo:\n",
        "  def __init__(self, value, siguiente = None ):\n",
        "    self.data = value\n",
        "    self.next = siguiente\n",
        "\n",
        "\n",
        "class LinkedList:\n",
        "  def __init__(self):\n",
        "    self.head = None\n",
        "\n",
        "  def is_empty(self):\n",
        "    return self.head == None   \n",
        "  \n",
        "  def get_tail(self):\n",
        "    if self.is_empty():\n",
        "      return None\n",
        "    else:\n",
        "      curr_node = self.head\n",
        "      while curr_node.next != None:\n",
        "       curr_node = curr_node.next\n",
        "      return curr_node\n",
        "\n",
        "  def append(self, value):\n",
        "    if self.head == None:\n",
        "      self.head = Nodo(value)\n",
        "    else:\n",
        "      curr_node = self.head\n",
        "      while curr_node.next != None:\n",
        "        curr_node = curr_node.next\n",
        "      curr_node.next = Nodo(value)\n",
        "  \n",
        "  def transversal(self):\n",
        "    curr_node = self.head\n",
        "    while curr_node != None:\n",
        "      print(f\"| {curr_node.data} | -->\", end=\"\")\n",
        "      curr_node = curr_node.next\n",
        "    print(\"\")\n",
        "\n",
        "  def remove (self, value):\n",
        "    if self.head == None:\n",
        "      print(\"Lista vacia, no se puede remover nada\")\n",
        "    else:\n",
        "      curr_node = self.head\n",
        "      aux = None\n",
        "      while curr_node.data != value: #revisar cuando el valor no exista\n",
        "        aux = curr_node\n",
        "        curr_node = curr_node.next\n",
        "\n",
        "      if curr_node != None:\n",
        "        aux.next = curr_node.next\n",
        "        curr_node = None\n",
        "  \n",
        "  def preppend(self,value):\n",
        "    if self.head ==None:\n",
        "      print(\"Esta vacio, no se puede hacer preppend\")\n",
        "    else:\n",
        "      aux = self.head\n",
        "      self.head = Nodo(value, aux)\n",
        "  \n",
        "\n",
        "#Tarea 7\n",
        "\n",
        "  def pop(self):\n",
        "    if self.head == None:\n",
        "      print(\"Lista vacia, no se puede hacer pop\")\n",
        "    else:\n",
        "      curr_node = self.head\n",
        "      while curr_node.next:\n",
        "        if curr_node.next.next == None:\n",
        "          curr_node.next = None\n",
        "        else:\n",
        "          curr_node=curr_node.next\n",
        "\n",
        "  def pop_first(self):\n",
        "    if self.head == None:\n",
        "      print(\"Lista vacia, no se puede hacer pop first\")\n",
        "    else:\n",
        "      if self.head != None:\n",
        "       aux = self.head\n",
        "       self.head = self.head.next\n",
        "       aux = None\n",
        "\n",
        "\n",
        "#Tarea 7"
      ],
      "execution_count": 21,
      "outputs": []
    },
    {
      "cell_type": "code",
      "metadata": {
        "colab": {
          "base_uri": "https://localhost:8080/"
        },
        "id": "8FbaZvoafbBx",
        "outputId": "9d80d822-e810-4d80-838d-bde9222ea743"
      },
      "source": [
        "lista = LinkedList()\n",
        "if lista.is_empty():\n",
        "  print(\"La lista esta vacia\")\n",
        "else:\n",
        "  print(\"La lista no esta vacia\")\n",
        "\n",
        "lista.append(10)\n",
        "lista.append(20)\n",
        "lista.append(30)\n",
        "lista.append(40)\n",
        "lista.append(50)\n",
        "nodo = lista.get_tail()\n",
        "if nodo != None:\n",
        "  print(nodo.data)\n",
        "else:\n",
        "  print(\"Lista esta vacia\")\n",
        "\n",
        "lista.transversal()\n",
        "lista.remove(30)\n",
        "lista.transversal()\n",
        "lista.preppend(5)\n",
        "print(\"Despues del preppend\")\n",
        "lista.transversal()\n",
        "\n",
        "#Tarea 7\n",
        "lista.pop()\n",
        "print(\"Despues del pop\")\n",
        "lista.transversal()\n",
        "lista.pop_first()\n",
        "print(\"Despues del pop first\")\n",
        "lista.transversal()\n",
        "#Tarea 7"
      ],
      "execution_count": 22,
      "outputs": [
        {
          "output_type": "stream",
          "name": "stdout",
          "text": [
            "La lista esta vacia\n",
            "50\n",
            "| 10 | -->| 20 | -->| 30 | -->| 40 | -->| 50 | -->\n",
            "| 10 | -->| 20 | -->| 40 | -->| 50 | -->\n",
            "Despues del preppend\n",
            "| 5 | -->| 10 | -->| 20 | -->| 40 | -->| 50 | -->\n",
            "Despues del pop\n",
            "| 5 | -->| 10 | -->| 20 | -->| 40 | -->\n",
            "Despues del pop first\n",
            "| 10 | -->| 20 | -->| 40 | -->\n"
          ]
        }
      ]
    }
  ]
}